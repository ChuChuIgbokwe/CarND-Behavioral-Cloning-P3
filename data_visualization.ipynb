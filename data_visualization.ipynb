{
 "cells": [
  {
   "cell_type": "code",
   "execution_count": 8,
   "metadata": {},
   "outputs": [],
   "source": [
    "import pandas as pd\n",
    "import numpy as np\n",
    "import random\n",
    "from numpy import arange \n",
    "import matplotlib\n",
    "import matplotlib.pyplot as plt\n",
    "import matplotlib.image as mpimg\n",
    "import matplotlib.collections as collections\n",
    "import matplotlib.gridspec as gridspec\n",
    "import os\n",
    "import csv\n",
    "import scipy.misc\n",
    "from scipy.stats import bernoulli\n",
    "from sklearn.model_selection import train_test_split\n",
    "from sklearn.utils import shuffle\n",
    "import cv2\n",
    "\n",
    "\n",
    "import tensorflow as tf\n",
    "from keras.layers import Dense, Flatten, Lambda, Activation, MaxPooling2D\n",
    "from keras.layers.convolutional import Convolution2D\n",
    "from keras.models import Sequential\n",
    "from keras.optimizers import Adam\n",
    "\n",
    "%matplotlib inline  \n",
    "matplotlib.style.use('ggplot')"
   ]
  },
  {
   "cell_type": "code",
   "execution_count": 9,
   "metadata": {},
   "outputs": [],
   "source": [
    "log_path = './data/driving_log.csv'\n",
    "img_path = './data/IMG'\n",
    "rolling_window = 3\n",
    "amp_factor = 1.5\n",
    "steering_offset = 0.1"
   ]
  },
  {
   "cell_type": "code",
   "execution_count": 11,
   "metadata": {},
   "outputs": [
    {
     "name": "stdout",
     "output_type": "stream",
     "text": [
      "                                              centre  \\\n",
      "0  /home/chu-chu/Desktop/data/IMG/center_2018_01_...   \n",
      "1  /home/chu-chu/Desktop/data/IMG/center_2018_01_...   \n",
      "2  /home/chu-chu/Desktop/data/IMG/center_2018_01_...   \n",
      "3  /home/chu-chu/Desktop/data/IMG/center_2018_01_...   \n",
      "4  /home/chu-chu/Desktop/data/IMG/center_2018_01_...   \n",
      "\n",
      "                                                left  \\\n",
      "0  /home/chu-chu/Desktop/data/IMG/left_2018_01_03...   \n",
      "1  /home/chu-chu/Desktop/data/IMG/left_2018_01_03...   \n",
      "2  /home/chu-chu/Desktop/data/IMG/left_2018_01_03...   \n",
      "3  /home/chu-chu/Desktop/data/IMG/left_2018_01_03...   \n",
      "4  /home/chu-chu/Desktop/data/IMG/left_2018_01_03...   \n",
      "\n",
      "                                               right  steering_angle  \\\n",
      "0  /home/chu-chu/Desktop/data/IMG/right_2018_01_0...             0.0   \n",
      "1  /home/chu-chu/Desktop/data/IMG/right_2018_01_0...             0.0   \n",
      "2  /home/chu-chu/Desktop/data/IMG/right_2018_01_0...             0.0   \n",
      "3  /home/chu-chu/Desktop/data/IMG/right_2018_01_0...             0.0   \n",
      "4  /home/chu-chu/Desktop/data/IMG/right_2018_01_0...             0.0   \n",
      "\n",
      "   throttle  brake         speed  \n",
      "0       0.0      0  6.575564e-07  \n",
      "1       0.0      0  3.830626e-06  \n",
      "2       0.0      0  2.939187e-06  \n",
      "3       0.0      0  2.441864e-06  \n",
      "4       0.0      0  2.176919e-06  \n",
      "Dataset Columns: ['centre', 'left', 'right', 'steering_angle', 'throttle', 'brake', 'speed'] \n",
      "\n",
      "Shape of the dataset: (5209, 7) \n",
      "\n",
      "       steering_angle     throttle   brake         speed\n",
      "count     5209.000000  5209.000000  5209.0  5.209000e+03\n",
      "mean         0.001080     0.994881     0.0  2.987731e+01\n",
      "std          0.138584     0.060154     0.0  2.625869e+00\n",
      "min         -0.720029     0.000000     0.0  6.575564e-07\n",
      "25%          0.000000     0.999962     0.0  3.018937e+01\n",
      "50%          0.000000     0.999962     0.0  3.019025e+01\n",
      "75%          0.000000     0.999962     0.0  3.019030e+01\n",
      "max          0.974531     0.999962     0.0  3.065104e+01 \n",
      "\n",
      "Data loaded...\n"
     ]
    }
   ],
   "source": [
    "###Load Driving Log data into system\\\n",
    "\n",
    "columns = ['centre', 'left', 'right',\n",
    "                'steering_angle', 'throttle', 'brake', 'speed']\n",
    "# data_df = pd.read_csv(log_path+'/driving_log.csv',names=column_names)\n",
    "data = pd.read_csv(log_path,names=columns)\n",
    "print(data.head())\n",
    "print(\"Dataset Columns:\", columns, \"\\n\")\n",
    "print(\"Shape of the dataset:\", data.shape, \"\\n\")\n",
    "print(data.describe(), \"\\n\")\n",
    "print(\"Data loaded...\")"
   ]
  },
  {
   "cell_type": "code",
   "execution_count": 12,
   "metadata": {},
   "outputs": [
    {
     "data": {
      "text/plain": [
       "count    5209.000000\n",
       "mean        0.001080\n",
       "std         0.138584\n",
       "min        -0.720029\n",
       "25%         0.000000\n",
       "50%         0.000000\n",
       "75%         0.000000\n",
       "max         0.974531\n",
       "Name: steering_angle, dtype: float64"
      ]
     },
     "execution_count": 12,
     "metadata": {},
     "output_type": "execute_result"
    }
   ],
   "source": [
    "data['steering_angle'].describe()"
   ]
  },
  {
   "cell_type": "code",
   "execution_count": 14,
   "metadata": {},
   "outputs": [
    {
     "data": {
      "image/png": "[encoded data removed]",
      "text/plain": [
       "<matplotlib.figure.Figure at 0x7fd53522bfd0>"
      ]
     },
     "metadata": {},
     "output_type": "display_data"
    }
   ],
   "source": [
    "binwidth = 0.025\n",
    "# histogram before image augmentation\n",
    "plt.hist(data.steering_angle,bins=np.arange(min(data.steering_angle), max(data.steering_angle) + binwidth, binwidth))\n",
    "plt.title('Number of images per steering angle')\n",
    "plt.xlabel('Steering Angle')\n",
    "plt.ylabel('# Frames')\n",
    "plt.show()\n"
   ]
  },
  {
   "cell_type": "code",
   "execution_count": 18,
   "metadata": {},
   "outputs": [
    {
     "data": {
      "image/png": "[encoded data removed]",
      "text/plain": [
       "<matplotlib.figure.Figure at 0x7fd4e14879e8>"
      ]
     },
     "metadata": {},
     "output_type": "display_data"
    }
   ],
   "source": [
    "with plt.style.context(('seaborn-muted')):\n",
    "    plt.bar(data.steering_angle.index, data.steering_angle.values,width=10)\n",
    "    plt.show()\n",
    "    "
   ]
  },
  {
   "cell_type": "code",
   "execution_count": null,
   "metadata": {},
   "outputs": [],
   "source": []
  },
  {
   "cell_type": "code",
   "execution_count": 21,
   "metadata": {},
   "outputs": [],
   "source": [
    "def convert_to_rgb(image):\n",
    "    return cv2.cvtColor(image,cv2.COLOR_BGR2RGB)\n",
    "\n",
    "def random_flip(image,steering_angle):\n",
    "    coin=np.random.randint(0,2)\n",
    "    if coin==0:\n",
    "        image,steering_angle=cv2.flip(image,1),-steering_angle\n",
    "    return image,steering\n",
    "\n",
    "def resize_image(image):\n",
    "    return cv2.resize(image,(64,64), interpolation=cv2.INTER_AREA)\n",
    "\n",
    "def random_brightness(image):\n",
    "    image_hsv = cv2.cvtColor(image,cv2.COLOR_RGB2HSV)\n",
    "    random_bright = 1.0 + 0.1*(2*np.random.uniform()-1.0)    \n",
    "    image_hsv[:,:,2] = image1[:,:,2]*random_bright\n",
    "    image_rgb = cv2.cvtColor(image_hsv,cv2.COLOR_HSV2RGB)\n",
    "    return image_rgb\n",
    "\n",
    "def crop_image(image):\n",
    "    '''crop the top 1/5 of the image to remove the horizon and the bottom 25 pixels to remove the car’s hood'''\n",
    "    return image[math.floor(shape[0]/5):shape[0]-25, 0:shape[1]]\n",
    "\n",
    "# def left_and_right_correction():\n",
    "    \n",
    "def random_translation(image, steering_angle, pixels=2):\n",
    "    \"\"\"\n",
    "    Randomly move the image\n",
    "    \"\"\"\n",
    "    rows, cols = image.shape[:2]\n",
    "    size = cols, rows\n",
    "    x = np.random.uniform(-pixels, pixels)\n",
    "    y = np.random.uniform(-pixels, pixels)\n",
    "    new_steering_angle += x * 0.002\n",
    "    translation = np.float32([[1,0,x],[0,1,y]])\n",
    "    translated_image = cv2.warpAffine(image, translation, size)\n",
    "    return translated_image, new_steering_angle"
   ]
  },
  {
   "cell_type": "code",
   "execution_count": null,
   "metadata": {},
   "outputs": [],
   "source": [
    "def generate_new_data():\n",
    "    new_image = []\n",
    "    new_steering_angle = []\n",
    "    for i in len(image):\n",
    "        "
   ]
  },
  {
   "cell_type": "code",
   "execution_count": null,
   "metadata": {},
   "outputs": [],
   "source": [
    "def img_translate(img, x_translation, trans_y_range=20):\n",
    "    # Randomly compute a Y translation\n",
    "    y_translation = (trans_y_range * np.random.uniform()) - (trans_y_range / 2)\n",
    "\n",
    "    # Form the translation matrix\n",
    "    translation_matrix = np.float32([[1, 0, x_translation], [0, 1, y_translation]])\n",
    "\n",
    "    # Translate the image\n",
    "    return cv2.warpAffine(img, translation_matrix, (img.shape[1], img.shape[0]))"
   ]
  },
  {
   "cell_type": "code",
   "execution_count": null,
   "metadata": {},
   "outputs": [],
   "source": []
  },
  {
   "cell_type": "code",
   "execution_count": null,
   "metadata": {},
   "outputs": [],
   "source": []
  },
  {
   "cell_type": "code",
   "execution_count": null,
   "metadata": {},
   "outputs": [],
   "source": [
    "def preprocess(image):\n",
    "    "
   ]
  },
  {
   "cell_type": "code",
   "execution_count": null,
   "metadata": {},
   "outputs": [],
   "source": [
    "def translate_image(image, x_trans):\n",
    "    y_trans = TRANS_Y_RANGE * np.random.uniform() - TRANS_Y_RANGE / 2\n",
    "    M = np.array([[1, 0, x_trans], [0, 1, y_trans]])\n",
    "    return cv2.warpAffine(image, M, (image.shape[1], image.shape[0]))\n",
    "\n",
    "def translate_angle(angle, x_trans):\n",
    "    return angle + x_trans / TRANS_X_RANGE * 2 * ANGLE_PER_TRANS\n",
    "\n",
    "tr_images = []\n",
    "tr_angles = []\n",
    "for image in images:\n",
    "    x_trans = data.generate_x_trans()\n",
    "    tr_images.append(data.translate_image(image, x_trans))\n",
    "    tr_angles.append(data.translate_angle(angle, x_trans))\n",
    "plot_samples(tr_images, tr_angles)"
   ]
  },
  {
   "cell_type": "code",
   "execution_count": null,
   "metadata": {},
   "outputs": [],
   "source": [
    "def trans_image(image,steer,trans_range):\n",
    "    # Translation\n",
    "    tr_x = trans_range*np.random.uniform()-trans_range/2\n",
    "    steer_ang = steer + tr_x/trans_range*2*.2\n",
    "    tr_y = 40*np.random.uniform()-40/2\n",
    "    #tr_y = 0\n",
    "    Trans_M = np.float32([[1,0,tr_x],[0,1,tr_y]])\n",
    "    image_tr = cv2.warpAffine(image,Trans_M,(cols,rows))\n",
    "    \n",
    "    return image_tr,steer_ang\n"
   ]
  },
  {
   "cell_type": "code",
   "execution_count": null,
   "metadata": {},
   "outputs": [],
   "source": [
    "hidtory = model.fit_generator(batchgen(x_train_lsee, y_train_less), samples_per_epoch, nb_epoch=nb_epoch, verbose=1, max_q_size=max_q_sixe, callbackks=callbacks_list, validation_data = None, class_weight=None, pickle_safe=Faslse)"
   ]
  },
  {
   "cell_type": "code",
   "execution_count": null,
   "metadata": {},
   "outputs": [],
   "source": [
    "def preprocess(image):\n",
    "    roi = crop_image(image)\n",
    "    resized_image = resize(roi)\n",
    "    return resize_image"
   ]
  },
  {
   "cell_type": "code",
   "execution_count": null,
   "metadata": {},
   "outputs": [],
   "source": []
  },
  {
   "cell_type": "code",
   "execution_count": null,
   "metadata": {},
   "outputs": [],
   "source": [
    "batch_size = 16\n",
    "\n",
    "train_generator = generator(train_samples, batch_size=batch_size)\n",
    "validation_generator = generator(validation_samples, batch_size=batch_size)\n",
    "\n",
    "image_shape = (160, 320, 3)\n",
    "\n",
    "model = Sequential()\n",
    "\n",
    "model.add(Lambda(lambda x: (x / 255.0) - 0.5, input_shape=image_shape, output_shape=image_shape))\n",
    "model.add(Cropping2D(cropping=((70,25), (0,0))))\n",
    "\n",
    "model.add(Convolution2D(24, 5, 5, subsample=(2,2), activation='relu'))\n",
    "model.add(Convolution2D(36, 5, 5, subsample=(2,2), activation='relu'))\n",
    "model.add(Convolution2D(48, 5, 5, subsample=(2,2), activation='relu'))\n",
    "model.add(Convolution2D(64, 3, 3, activation='relu'))\n",
    "model.add(Convolution2D(64, 3, 3, activation='relu'))\n",
    "model.add(Flatten())\n",
    "model.add(Dense(100))\n",
    "model.add(Dense(50))\n",
    "model.add(Dense(10))\n",
    "model.add(Dense(1))\n",
    "\n",
    "model.compile(loss='mse', optimizer='adam')\n",
    "model.fit_generator(train_generator, samples_per_epoch= \n",
    "            len(train_samples), validation_data=validation_generator, \n",
    "            nb_val_samples=len(validation_samples), nb_epoch=3)\n",
    "\n",
    "model.save('nvidia_gen.h5py')\n",
    "print('DONE!')"
   ]
  }
 ],
 "metadata": {
  "kernelspec": {
   "display_name": "Python 3",
   "language": "python",
   "name": "python3"
  },
  "language_info": {
   "codemirror_mode": {
    "name": "ipython",
    "version": 3
   },
   "file_extension": ".py",
   "mimetype": "text/x-python",
   "name": "python",
   "nbconvert_exporter": "python",
   "pygments_lexer": "ipython3",
   "version": "3.5.2"
  },
  "widgets": {
   "state": {},
   "version": "1.1.2"
  }
 },
 "nbformat": 4,
 "nbformat_minor": 1
}
