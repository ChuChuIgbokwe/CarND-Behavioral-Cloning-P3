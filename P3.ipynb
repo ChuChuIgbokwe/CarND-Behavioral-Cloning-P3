{
 "cells": [
  {
   "cell_type": "code",
   "execution_count": 2,
   "metadata": {},
   "outputs": [
    {
     "data": {
      "text/html": [
       "<div>\n",
       "<style scoped>\n",
       "    .dataframe tbody tr th:only-of-type {\n",
       "        vertical-align: middle;\n",
       "    }\n",
       "\n",
       "    .dataframe tbody tr th {\n",
       "        vertical-align: top;\n",
       "    }\n",
       "\n",
       "    .dataframe thead th {\n",
       "        text-align: right;\n",
       "    }\n",
       "</style>\n",
       "<table border=\"1\" class=\"dataframe\">\n",
       "  <thead>\n",
       "    <tr style=\"text-align: right;\">\n",
       "      <th></th>\n",
       "      <th>center</th>\n",
       "      <th>left</th>\n",
       "      <th>right</th>\n",
       "      <th>steering</th>\n",
       "      <th>throttle</th>\n",
       "      <th>brake</th>\n",
       "      <th>speed</th>\n",
       "    </tr>\n",
       "  </thead>\n",
       "  <tbody>\n",
       "    <tr>\n",
       "      <th>0</th>\n",
       "      <td>/home/chu-chu/self_driving_car_nanodegree/CarN...</td>\n",
       "      <td>/home/chu-chu/self_driving_car_nanodegree/CarN...</td>\n",
       "      <td>/home/chu-chu/self_driving_car_nanodegree/CarN...</td>\n",
       "      <td>0.0</td>\n",
       "      <td>0.0</td>\n",
       "      <td>0</td>\n",
       "      <td>2.427794e-07</td>\n",
       "    </tr>\n",
       "    <tr>\n",
       "      <th>1</th>\n",
       "      <td>/home/chu-chu/self_driving_car_nanodegree/CarN...</td>\n",
       "      <td>/home/chu-chu/self_driving_car_nanodegree/CarN...</td>\n",
       "      <td>/home/chu-chu/self_driving_car_nanodegree/CarN...</td>\n",
       "      <td>0.0</td>\n",
       "      <td>0.0</td>\n",
       "      <td>0</td>\n",
       "      <td>6.757399e-07</td>\n",
       "    </tr>\n",
       "    <tr>\n",
       "      <th>2</th>\n",
       "      <td>/home/chu-chu/self_driving_car_nanodegree/CarN...</td>\n",
       "      <td>/home/chu-chu/self_driving_car_nanodegree/CarN...</td>\n",
       "      <td>/home/chu-chu/self_driving_car_nanodegree/CarN...</td>\n",
       "      <td>0.0</td>\n",
       "      <td>0.0</td>\n",
       "      <td>0</td>\n",
       "      <td>9.954655e-07</td>\n",
       "    </tr>\n",
       "    <tr>\n",
       "      <th>3</th>\n",
       "      <td>/home/chu-chu/self_driving_car_nanodegree/CarN...</td>\n",
       "      <td>/home/chu-chu/self_driving_car_nanodegree/CarN...</td>\n",
       "      <td>/home/chu-chu/self_driving_car_nanodegree/CarN...</td>\n",
       "      <td>0.0</td>\n",
       "      <td>0.0</td>\n",
       "      <td>0</td>\n",
       "      <td>1.387092e-06</td>\n",
       "    </tr>\n",
       "    <tr>\n",
       "      <th>4</th>\n",
       "      <td>/home/chu-chu/self_driving_car_nanodegree/CarN...</td>\n",
       "      <td>/home/chu-chu/self_driving_car_nanodegree/CarN...</td>\n",
       "      <td>/home/chu-chu/self_driving_car_nanodegree/CarN...</td>\n",
       "      <td>0.0</td>\n",
       "      <td>0.0</td>\n",
       "      <td>0</td>\n",
       "      <td>2.046672e-06</td>\n",
       "    </tr>\n",
       "  </tbody>\n",
       "</table>\n",
       "</div>"
      ],
      "text/plain": [
       "                                              center  \\\n",
       "0  /home/chu-chu/self_driving_car_nanodegree/CarN...   \n",
       "1  /home/chu-chu/self_driving_car_nanodegree/CarN...   \n",
       "2  /home/chu-chu/self_driving_car_nanodegree/CarN...   \n",
       "3  /home/chu-chu/self_driving_car_nanodegree/CarN...   \n",
       "4  /home/chu-chu/self_driving_car_nanodegree/CarN...   \n",
       "\n",
       "                                                left  \\\n",
       "0  /home/chu-chu/self_driving_car_nanodegree/CarN...   \n",
       "1  /home/chu-chu/self_driving_car_nanodegree/CarN...   \n",
       "2  /home/chu-chu/self_driving_car_nanodegree/CarN...   \n",
       "3  /home/chu-chu/self_driving_car_nanodegree/CarN...   \n",
       "4  /home/chu-chu/self_driving_car_nanodegree/CarN...   \n",
       "\n",
       "                                               right  steering  throttle  \\\n",
       "0  /home/chu-chu/self_driving_car_nanodegree/CarN...       0.0       0.0   \n",
       "1  /home/chu-chu/self_driving_car_nanodegree/CarN...       0.0       0.0   \n",
       "2  /home/chu-chu/self_driving_car_nanodegree/CarN...       0.0       0.0   \n",
       "3  /home/chu-chu/self_driving_car_nanodegree/CarN...       0.0       0.0   \n",
       "4  /home/chu-chu/self_driving_car_nanodegree/CarN...       0.0       0.0   \n",
       "\n",
       "   brake         speed  \n",
       "0      0  2.427794e-07  \n",
       "1      0  6.757399e-07  \n",
       "2      0  9.954655e-07  \n",
       "3      0  1.387092e-06  \n",
       "4      0  2.046672e-06  "
      ]
     },
     "execution_count": 2,
     "metadata": {},
     "output_type": "execute_result"
    }
   ],
   "source": [
    "import pandas as pd\n",
    "import numpy as np\n",
    "import matplotlib\n",
    "import matplotlib.pyplot as plt\n",
    "import os\n",
    "from sklearn.model_selection import train_test_split\n",
    "from sklearn.utils import shuffle\n",
    "import cv2\n",
    "from keras.models import load_model\n",
    "from keras.models import Sequential\n",
    "from keras.layers import Dense, Activation, Dropout,Convolution2D,MaxPooling2D,Flatten,Lambda\n",
    "from keras.optimizers import Adam\n",
    "from keras.models import model_from_json\n",
    "import json\n",
    "%matplotlib inline\n",
    "matplotlib.style.use('ggplot')\n",
    "\n",
    "data_dir = './data'\n",
    "data_csv = '/driving_log.csv'\n",
    "model_json = 'model_behavioral_cloning_augmentation.json'\n",
    "model_weights = 'model_behavioral_cloning_augmentation.h5'\n",
    "\n",
    "col_names = ['centre', 'left','right','steering_angle','throttle','brake','speed']\n",
    "training_dat = pd.read_csv('./data/driving_log.csv',names=col_names)\n",
    "training_dat.head()"
   ]
  },
  {
   "cell_type": "code",
   "execution_count": 3,
   "metadata": {},
   "outputs": [
    {
     "data": {
      "text/plain": [
       "(0    /home/chu-chu/self_driving_car_nanodegree/CarN...\n",
       " 1    /home/chu-chu/self_driving_car_nanodegree/CarN...\n",
       " 2    /home/chu-chu/self_driving_car_nanodegree/CarN...\n",
       " 3    /home/chu-chu/self_driving_car_nanodegree/CarN...\n",
       " 4    /home/chu-chu/self_driving_car_nanodegree/CarN...\n",
       " Name: center, dtype: object, 0    0.0\n",
       " 1    0.0\n",
       " 2    0.0\n",
       " 3    0.0\n",
       " 4    0.0\n",
       " Name: steering, dtype: float32)"
      ]
     },
     "execution_count": 3,
     "metadata": {},
     "output_type": "execute_result"
    }
   ],
   "source": [
    "# start with the center images only\n",
    "X_train = training_dat['centre']\n",
    "X_left  = training_dat['left']\n",
    "X_right = training_dat['right']\n",
    "Y_train = training_dat['steering_angle']\n",
    "Y_train = Y_train.astype(np.float32)\n",
    "if data_dir=='./data/udacity':\n",
    "    X_train = X_train.apply(lambda x: data_dir+'/'+x)\n",
    "X_train.head(),Y_train.head()"
   ]
  },
  {
   "cell_type": "code",
   "execution_count": null,
   "metadata": {},
   "outputs": [],
   "source": []
  },
  {
   "cell_type": "code",
   "execution_count": 4,
   "metadata": {},
   "outputs": [
    {
     "name": "stdout",
     "output_type": "stream",
     "text": [
      "steering : 0.281267207861\n"
     ]
    },
    {
     "data": {
      "image/png": "[encoded data removed]",
      "text/plain": [
       "<matplotlib.figure.Figure at 0x7f8419a404a8>"
      ]
     },
     "metadata": {},
     "output_type": "display_data"
    }
   ],
   "source": [
    "def read_next_image(m,lcr,X_train,X_left,X_right,Y_train):\n",
    "    # assume the side cameras are about 1.2 meters off the center and the offset to the left or right \n",
    "    # should be be corrected over the next dist meters, calculate the change in steering control\n",
    "    # using tan(alpha)=alpha\n",
    "\n",
    "    offset=1.2 \n",
    "    dist=100.0\n",
    "    steering = Y_train[m]\n",
    "    if lcr == 0:\n",
    "        image = plt.imread(X_left[m].strip())\n",
    "        dsteering = -offset/dist * 360/( 2*np.pi) / 25.0\n",
    "        steering += dsteering\n",
    "    elif lcr == 1:\n",
    "        image = plt.imread(X_train[m].strip())\n",
    "    elif lcr == 2:\n",
    "        image = plt.imread(X_right[m].strip())\n",
    "        dsteering = offset/dist * 360/( 2*np.pi)  / 25.0\n",
    "        steering += dsteering\n",
    "    else:\n",
    "        print ('Invalid lcr value :',lcr )\n",
    "    \n",
    "    return image,steering\n",
    "\n",
    "def random_crop(image,steering=0.0,tx_lower=-20,tx_upper=20,ty_lower=-2,ty_upper=2,rand=True):\n",
    "    # we will randomly crop subsections of the image and use them as our data set.\n",
    "    # also the input to the network will need to be cropped, but of course not randomly and centered.\n",
    "    shape = image.shape\n",
    "    col_start,col_end =abs(tx_lower),shape[1]-tx_upper\n",
    "    horizon=60;\n",
    "    bonnet=136\n",
    "    if rand:\n",
    "        tx= np.random.randint(tx_lower,tx_upper+1)\n",
    "        ty= np.random.randint(ty_lower,ty_upper+1)\n",
    "    else:\n",
    "        tx,ty=0,0\n",
    "    \n",
    "    #    print('tx = ',tx,'ty = ',ty)\n",
    "    random_crop = image[horizon+ty:bonnet+ty,col_start+tx:col_end+tx,:]\n",
    "    image = cv2.resize(random_crop,(64,64),cv2.INTER_AREA)\n",
    "    # the steering variable needs to be updated to counteract the shift \n",
    "    if tx_lower != tx_upper:\n",
    "        dsteering = -tx/(tx_upper-tx_lower)/20.0\n",
    "    else:\n",
    "        dsteering = 0\n",
    "    steering += dsteering\n",
    "    \n",
    "    return image,steering\n",
    "\n",
    "def random_shear(image,steering,shear_range):\n",
    "    rows,cols,ch = image.shape\n",
    "    dx = np.random.randint(-shear_range,shear_range+1)\n",
    "    #    print('dx',dx)\n",
    "    random_point = [cols/2+dx,rows/2]\n",
    "    pts1 = np.float32([[0,rows],[cols,rows],[cols/2,rows/2]])\n",
    "    pts2 = np.float32([[0,rows],[cols,rows],random_point])\n",
    "    dsteering = dx/(rows/2) * 360/(2*np.pi*25.0) / 10.0    \n",
    "    M = cv2.getAffineTransform(pts1,pts2)\n",
    "    image = cv2.warpAffine(image,M,(cols,rows),borderMode=1)\n",
    "    steering +=dsteering\n",
    "    \n",
    "    return image,steering\n",
    "\n",
    "def random_brightness(image):\n",
    "    image1 = cv2.cvtColor(image,cv2.COLOR_RGB2HSV)\n",
    "    random_bright = 1.0 + 0.1*(2*np.random.uniform()-1.0)    \n",
    "    image1[:,:,2] = image1[:,:,2]*random_bright\n",
    "    image1 = cv2.cvtColor(image1,cv2.COLOR_HSV2RGB)\n",
    "    return image1\n",
    "\n",
    "def random_flip(image,steering):\n",
    "    coin=np.random.randint(0,2)\n",
    "    if coin==0:\n",
    "        image,steering=cv2.flip(image,1),-steering\n",
    "    return image,steering\n",
    "        \n",
    "\n",
    "def generate_training_example(X_train,X_left,X_right,Y_train):\n",
    "    m = np.random.randint(0,len(Y_train))\n",
    "\n",
    "    lcr = np.random.randint(0,3)\n",
    "\n",
    "    image,steering = read_next_image(m,lcr,X_train,X_left,X_right,Y_train)\n",
    "\n",
    "    image,steering = random_shear(image,steering,shear_range=40)\n",
    "    \n",
    "    image,steering = random_crop(image,steering,tx_lower=-20,tx_upper=20,ty_lower=-2,ty_upper=2)\n",
    "\n",
    "    image,steering = random_flip(image,steering)\n",
    "    image = random_brightness(image)\n",
    "\n",
    "    \n",
    "    return image,steering\n",
    "    \n",
    "\n",
    "image,steering = generate_training_example(X_train,X_left,X_right,Y_train)\n",
    "plt.imshow(image)    \n",
    "print('steering :',steering)"
   ]
  },
  {
   "cell_type": "code",
   "execution_count": 5,
   "metadata": {},
   "outputs": [],
   "source": [
    "def generate_train_batch(X_train,X_left,X_right,Y_train,batch_size = 32):\n",
    "    \n",
    "    batch_images = np.zeros((batch_size, 64, 64, 3))\n",
    "    batch_steering = np.zeros(batch_size)\n",
    "    while 1:\n",
    "        for i_batch in range(batch_size):\n",
    "            x,y = generate_training_example(X_train,X_left,X_right,Y_train)\n",
    "            batch_images[i_batch] = x\n",
    "            batch_steering[i_batch] = y\n",
    "        yield batch_images, batch_steering"
   ]
  },
  {
   "cell_type": "code",
   "execution_count": 6,
   "metadata": {},
   "outputs": [],
   "source": [
    "batch_size=200\n",
    "train_generator = generate_train_batch(X_train,X_left,X_right,Y_train,batch_size)"
   ]
  },
  {
   "cell_type": "code",
   "execution_count": 7,
   "metadata": {},
   "outputs": [
    {
     "name": "stdout",
     "output_type": "stream",
     "text": [
      "X_train data type : object\n",
      "Y_train data type : float32\n",
      "_________________________________________________________________\n",
      "Layer (type)                 Output Shape              Param #   \n",
      "=================================================================\n",
      "lambda_1 (Lambda)            (None, 64, 64, 3)         0         \n",
      "_________________________________________________________________\n",
      "conv2d_1 (Conv2D)            (None, 32, 32, 32)        896       \n",
      "_________________________________________________________________\n",
      "activation_1 (Activation)    (None, 32, 32, 32)        0         \n",
      "_________________________________________________________________\n",
      "max_pooling2d_1 (MaxPooling2 (None, 31, 31, 32)        0         \n",
      "_________________________________________________________________\n",
      "conv2d_2 (Conv2D)            (None, 16, 16, 64)        18496     \n",
      "_________________________________________________________________\n",
      "relu2 (Activation)           (None, 16, 16, 64)        0         \n",
      "_________________________________________________________________\n",
      "max_pooling2d_2 (MaxPooling2 (None, 8, 8, 64)          0         \n",
      "_________________________________________________________________\n",
      "conv2d_3 (Conv2D)            (None, 8, 8, 128)         73856     \n",
      "_________________________________________________________________\n",
      "activation_2 (Activation)    (None, 8, 8, 128)         0         \n",
      "_________________________________________________________________\n",
      "max_pooling2d_3 (MaxPooling2 (None, 4, 4, 128)         0         \n",
      "_________________________________________________________________\n",
      "flatten_1 (Flatten)          (None, 2048)              0         \n",
      "_________________________________________________________________\n",
      "dropout_1 (Dropout)          (None, 2048)              0         \n",
      "_________________________________________________________________\n",
      "dense_1 (Dense)              (None, 128)               262272    \n",
      "_________________________________________________________________\n",
      "activation_3 (Activation)    (None, 128)               0         \n",
      "_________________________________________________________________\n",
      "dropout_2 (Dropout)          (None, 128)               0         \n",
      "_________________________________________________________________\n",
      "dense_2 (Dense)              (None, 128)               16512     \n",
      "_________________________________________________________________\n",
      "dense_3 (Dense)              (None, 1)                 129       \n",
      "=================================================================\n",
      "Total params: 372,161\n",
      "Trainable params: 372,161\n",
      "Non-trainable params: 0\n",
      "_________________________________________________________________\n"
     ]
    },
    {
     "name": "stderr",
     "output_type": "stream",
     "text": [
      "/home/chu-chu/.local/lib/python3.5/site-packages/ipykernel_launcher.py:19: UserWarning: Update your `Conv2D` call to the Keras 2 API: `Conv2D(32, (3, 3), padding=\"same\", strides=(2, 2))`\n",
      "/home/chu-chu/.local/lib/python3.5/site-packages/ipykernel_launcher.py:22: UserWarning: Update your `Conv2D` call to the Keras 2 API: `Conv2D(64, (3, 3), padding=\"same\", strides=(2, 2))`\n",
      "/home/chu-chu/.local/lib/python3.5/site-packages/ipykernel_launcher.py:25: UserWarning: Update your `Conv2D` call to the Keras 2 API: `Conv2D(128, (3, 3), padding=\"same\", strides=(1, 1))`\n"
     ]
    }
   ],
   "source": [
    "print('X_train data type :',X_train.dtype)\n",
    "print('Y_train data type :',Y_train.dtype)\n",
    "\n",
    "nb_filter1 = 32\n",
    "nb_filter2 = 64\n",
    "nb_filter3 = 128\n",
    "# size of pooling area for max pooling\n",
    "pool_size = (2, 2)\n",
    "pool_strides = (1,1)\n",
    "# convolution kernel size\n",
    "kernel_size = (3, 3)\n",
    "# number of hidden units in the first fully connected layer\n",
    "nb_fc1=128\n",
    "nb_fc2=128\n",
    "\n",
    "\n",
    "model = Sequential()\n",
    "model.add(Lambda(lambda x: x/127.5 - 1.0,input_shape=(64,64,3)))\n",
    "model.add(Conv2D(32, 3,3 ,border_mode='same', subsample=(2,2)))\n",
    "model.add(Activation('relu'))\n",
    "model.add(MaxPooling2D(pool_size=(2,2),strides=(1,1)))\n",
    "model.add(Conv2D(64, 3,3 ,border_mode='same',subsample=(2,2)))\n",
    "model.add(Activation('relu',name='relu2'))\n",
    "model.add(MaxPooling2D(pool_size=(2,2)))\n",
    "model.add(Conv2D(128, 3,3,border_mode='same',subsample=(1,1)))\n",
    "model.add(Activation('relu'))\n",
    "model.add(MaxPooling2D(pool_size=pool_size))\n",
    "model.add(Flatten())\n",
    "model.add(Dropout(0.5))\n",
    "model.add(Dense(128))\n",
    "model.add(Activation('relu'))\n",
    "model.add(Dropout(0.5))\n",
    "model.add(Dense(128))\n",
    "model.add(Dense(1))\n",
    "model.summary()\n",
    "\n",
    "\n",
    "adam = Adam(lr=1e-4, beta_1=0.9, beta_2=0.999, epsilon=1e-08, decay=0.0)\n",
    "\n",
    "restart=True\n",
    "if os.path.isfile(model_json) and restart:\n",
    "    try:\n",
    "        with open(model_json) as jfile:\n",
    "            model = model_from_json(json.load(jfile))\n",
    "            model.load_weights(model_weights)    \n",
    "        print('loading trained model ...')\n",
    "    except Exception as e:\n",
    "        print('Unable to load model', model_name, ':', e)\n",
    "        raise    \n",
    "\n",
    "model.compile(optimizer=adam, loss='mse')"
   ]
  },
  {
   "cell_type": "code",
   "execution_count": 8,
   "metadata": {},
   "outputs": [
    {
     "name": "stderr",
     "output_type": "stream",
     "text": [
      "/home/chu-chu/.local/lib/python3.5/site-packages/ipykernel_launcher.py:4: UserWarning: The semantics of the Keras 2 argument `steps_per_epoch` is not the same as the Keras 1 argument `samples_per_epoch`. `steps_per_epoch` is the number of batches to draw from the generator at each epoch. Basically steps_per_epoch = samples_per_epoch/batch_size. Similarly `nb_val_samples`->`validation_steps` and `val_samples`->`steps` arguments have changed. Update your method calls accordingly.\n",
      "  after removing the cwd from sys.path.\n",
      "/home/chu-chu/.local/lib/python3.5/site-packages/ipykernel_launcher.py:4: UserWarning: Update your `fit_generator` call to the Keras 2 API: `fit_generator(<generator..., epochs=1, steps_per_epoch=20000, verbose=1)`\n",
      "  after removing the cwd from sys.path.\n"
     ]
    },
    {
     "name": "stdout",
     "output_type": "stream",
     "text": [
      "Epoch 1/1\n",
      "20000/20000 [==============================] - 4684s - loss: 0.0091  \n"
     ]
    }
   ],
   "source": [
    "nb_epoch=1\n",
    "history = model.fit_generator(train_generator,\n",
    "                    samples_per_epoch=20000, nb_epoch=nb_epoch,\n",
    "                    verbose=1)\n",
    "\n",
    "json_string = model.to_json()\n",
    "with open(model_json, 'w') as outfile:\n",
    "    json.dump(json_string, outfile)\n",
    "model.save_weights(model_weights)"
   ]
  },
  {
   "cell_type": "code",
   "execution_count": 9,
   "metadata": {},
   "outputs": [
    {
     "data": {
      "text/plain": [
       "<matplotlib.axes._subplots.AxesSubplot at 0x7f8413cb4978>"
      ]
     },
     "execution_count": 9,
     "metadata": {},
     "output_type": "execute_result"
    },
    {
     "data": {
      "image/png": "[encoded data removed]",
      "text/plain": [
       "<matplotlib.figure.Figure at 0x7f8419979668>"
      ]
     },
     "metadata": {},
     "output_type": "display_data"
    }
   ],
   "source": [
    "plt.figure();\n",
    "Y_train.plot.hist(bins=101,alpha=0.5)"
   ]
  },
  {
   "cell_type": "code",
   "execution_count": 10,
   "metadata": {},
   "outputs": [
    {
     "ename": "NameError",
     "evalue": "name 'sample_image' is not defined",
     "output_type": "error",
     "traceback": [
      "\u001b[0;31m---------------------------------------------------------------------------\u001b[0m",
      "\u001b[0;31mNameError\u001b[0m                                 Traceback (most recent call last)",
      "\u001b[0;32m<ipython-input-10-2c42907a4663>\u001b[0m in \u001b[0;36m<module>\u001b[0;34m()\u001b[0m\n\u001b[1;32m      6\u001b[0m     \u001b[0;32mreturn\u001b[0m \u001b[0mimage1\u001b[0m\u001b[0;34m\u001b[0m\u001b[0m\n\u001b[1;32m      7\u001b[0m \u001b[0;34m\u001b[0m\u001b[0m\n\u001b[0;32m----> 8\u001b[0;31m \u001b[0mimg\u001b[0m \u001b[0;34m=\u001b[0m \u001b[0maugment_brightness_camera_images\u001b[0m\u001b[0;34m(\u001b[0m\u001b[0msample_image\u001b[0m\u001b[0;34m)\u001b[0m\u001b[0;34m\u001b[0m\u001b[0m\n\u001b[0m\u001b[1;32m      9\u001b[0m \u001b[0mplt\u001b[0m\u001b[0;34m.\u001b[0m\u001b[0mimshow\u001b[0m\u001b[0;34m(\u001b[0m\u001b[0mimg\u001b[0m\u001b[0;34m)\u001b[0m\u001b[0;34m\u001b[0m\u001b[0m\n",
      "\u001b[0;31mNameError\u001b[0m: name 'sample_image' is not defined"
     ]
    }
   ],
   "source": [
    "def augment_brightness_camera_images(image):\n",
    "    image1 = cv2.cvtColor(image,cv2.COLOR_RGB2HSV)\n",
    "    random_bright = 1.0 + 0.1*(2*np.random.uniform()-1.0)    \n",
    "    image1[:,:,2] = image1[:,:,2]*random_bright\n",
    "    image1 = cv2.cvtColor(image1,cv2.COLOR_HSV2RGB)\n",
    "    return image1\n",
    "\n",
    "img = augment_brightness_camera_images(sample_image)\n",
    "plt.imshow(img)"
   ]
  },
  {
   "cell_type": "code",
   "execution_count": null,
   "metadata": {},
   "outputs": [],
   "source": [
    "def random_translation(img,tx_range,ty_range):\n",
    "    rows,cols,ch = img.shape\n",
    "    p=10 #pad the image (reflect the boundary)\n",
    "    tr_x = tx_range*np.random.uniform()-tx_range/2\n",
    "    tr_y = ty_range*np.random.uniform()-ty_range/2\n",
    "    #tr_y=-5\n",
    "    Trans_M = np.float32([[1,0,tr_x],[0,1,tr_y]])\n",
    "    wrap = cv2.copyMakeBorder(img,p,p,p,p,0)\n",
    "    img = cv2.warpAffine(wrap,Trans_M,(cols+2*p,rows+2*p))\n",
    "    img = img[p:p+cols,p:p+rows]\n",
    "    return img\n",
    "\n",
    "img1 = random_translation(sample_image,0,0)\n",
    "img2 = random_translation(sample_image,32,0)\n",
    "img3 = random_translation(sample_image,32,0)\n",
    "img4 = random_translation(sample_image,32,32)\n",
    "\n",
    "images=[img1,img2,img3,img4]\n",
    "\n",
    "fig, axes = plt.subplots(1,4)\n",
    "fig.subplots_adjust(hspace=0.2, wspace=0.1)\n",
    "\n",
    "for i, ax in enumerate(axes.flat):\n",
    "    ax.imshow(images[i])\n",
    "    ax.set_xticks([])\n",
    "    ax.set_yticks([])"
   ]
  },
  {
   "cell_type": "code",
   "execution_count": null,
   "metadata": {},
   "outputs": [],
   "source": []
  }
 ],
 "metadata": {
  "kernelspec": {
   "display_name": "Python 3",
   "language": "python",
   "name": "python3"
  },
  "language_info": {
   "codemirror_mode": {
    "name": "ipython",
    "version": 3
   },
   "file_extension": ".py",
   "mimetype": "text/x-python",
   "name": "python",
   "nbconvert_exporter": "python",
   "pygments_lexer": "ipython3",
   "version": "3.5.2"
  },
  "widgets": {
   "state": {},
   "version": "1.1.2"
  }
 },
 "nbformat": 4,
 "nbformat_minor": 2
}
